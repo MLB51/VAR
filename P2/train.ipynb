{
 "cells": [
  {
   "cell_type": "code",
   "execution_count": 1,
   "metadata": {},
   "outputs": [
    {
     "name": "stderr",
     "output_type": "stream",
     "text": [
      "2024-05-16 18:58:37.419956: I tensorflow/tsl/cuda/cudart_stub.cc:28] Could not find cuda drivers on your machine, GPU will not be used.\n",
      "2024-05-16 18:58:38.317607: I tensorflow/tsl/cuda/cudart_stub.cc:28] Could not find cuda drivers on your machine, GPU will not be used.\n",
      "2024-05-16 18:58:38.323633: I tensorflow/core/platform/cpu_feature_guard.cc:182] This TensorFlow binary is optimized to use available CPU instructions in performance-critical operations.\n",
      "To enable the following instructions: AVX2, in other operations, rebuild TensorFlow with the appropriate compiler flags.\n",
      "2024-05-16 18:58:41.732718: W tensorflow/compiler/tf2tensorrt/utils/py_utils.cc:38] TF-TRT Warning: Could not find TensorRT\n"
     ]
    }
   ],
   "source": [
    "import tensorflow as tf\n",
    "from tensorflow.keras import layers, models\n",
    "import json\n",
    "import cv2\n",
    "import numpy as np\n",
    "from sklearn.model_selection import train_test_split\n",
    "from tensorflow.keras.callbacks import ModelCheckpoint"
   ]
  },
  {
   "cell_type": "markdown",
   "metadata": {},
   "source": [
    "# 1.Create model"
   ]
  },
  {
   "cell_type": "code",
   "execution_count": 2,
   "metadata": {},
   "outputs": [
    {
     "name": "stdout",
     "output_type": "stream",
     "text": [
      "Model: \"sequential\"\n",
      "_________________________________________________________________\n",
      " Layer (type)                Output Shape              Param #   \n",
      "=================================================================\n",
      " conv2d (Conv2D)             (None, 198, 198, 32)      320       \n",
      "                                                                 \n",
      " max_pooling2d (MaxPooling2  (None, 99, 99, 32)        0         \n",
      " D)                                                              \n",
      "                                                                 \n",
      " conv2d_1 (Conv2D)           (None, 97, 97, 64)        18496     \n",
      "                                                                 \n",
      " max_pooling2d_1 (MaxPoolin  (None, 48, 48, 64)        0         \n",
      " g2D)                                                            \n",
      "                                                                 \n",
      " conv2d_2 (Conv2D)           (None, 46, 46, 64)        36928     \n",
      "                                                                 \n",
      " flatten (Flatten)           (None, 135424)            0         \n",
      "                                                                 \n",
      " dense (Dense)               (None, 64)                8667200   \n",
      "                                                                 \n",
      " dense_1 (Dense)             (None, 2)                 130       \n",
      "                                                                 \n",
      "=================================================================\n",
      "Total params: 8723074 (33.28 MB)\n",
      "Trainable params: 8723074 (33.28 MB)\n",
      "Non-trainable params: 0 (0.00 Byte)\n",
      "_________________________________________________________________\n"
     ]
    }
   ],
   "source": [
    "# Define the CNN model\n",
    "def create_cnn_model(input_shape):\n",
    "    model = models.Sequential()\n",
    "\n",
    "    # Add Convolutional layers\n",
    "    model.add(layers.Conv2D(32, (3, 3), activation='relu', input_shape=input_shape))\n",
    "    model.add(layers.MaxPooling2D((2, 2)))\n",
    "    model.add(layers.Conv2D(64, (3, 3), activation='relu'))\n",
    "    model.add(layers.MaxPooling2D((2, 2)))\n",
    "    model.add(layers.Conv2D(64, (3, 3), activation='relu'))\n",
    "\n",
    "    # Add Dense layers\n",
    "    model.add(layers.Flatten())\n",
    "    model.add(layers.Dense(64, activation='relu'))\n",
    "    model.add(layers.Dense(2))  # 2 output neurons for linear and angular speed\n",
    "\n",
    "    return model\n",
    "\n",
    "# Create an instance of the model\n",
    "input_shape = (200, 200, 1)  # Define the input shape based on your camera image dimensions\n",
    "model = create_cnn_model(input_shape)\n",
    "\n",
    "# Compile the model\n",
    "model.compile(optimizer='adam', loss='mse', metrics=['mae'])  # Using Mean Squared Error as loss for regression\n",
    "\n",
    "# Print model summary\n",
    "model.summary()\n",
    "\n",
    "\n",
    "\n"
   ]
  },
  {
   "cell_type": "markdown",
   "metadata": {},
   "source": [
    "# 2. Load data"
   ]
  },
  {
   "cell_type": "code",
   "execution_count": 33,
   "metadata": {},
   "outputs": [
    {
     "name": "stdout",
     "output_type": "stream",
     "text": [
      "1601\n"
     ]
    }
   ],
   "source": [
    "\n",
    "def load_json(path):\n",
    "\n",
    "    with open(path, 'r') as f:\n",
    "        data = json.load(f)\n",
    "\n",
    "    images = []\n",
    "    labels = []\n",
    "    for sample in data:\n",
    "        try:\n",
    "            image = cv2.imread(sample['path'], cv2.IMREAD_GRAYSCALE)\n",
    "            image = cv2.resize(image, (input_shape[0], input_shape[1]))\n",
    "            image = image / 255.0\n",
    "            images.append(image)\n",
    "            labels.append([np.float32(sample['V']), np.float32(sample['W'])])\n",
    "        except Exception as e:\n",
    "            print(e)\n",
    "    \n",
    "    images = np.array(images, dtype=np.float32)\n",
    "    labels = np.array(labels, dtype=np.float32)\n",
    "    return images, labels\n",
    "\n",
    "images = []\n",
    "labels = []\n",
    "paths = ['data/dataset1.json', 'data/dataset2.json']\n",
    "for path in paths:\n",
    "    aux_data = load_json(path)\n",
    "    print(len(aux_data[0]))\n",
    "    images = np.append(images, aux_data[0])\n",
    "    labels = np.append(labels, aux_data[1])\n",
    "\n",
    "[print(x, '->', x.shape) if x.shape!=(200,200) else \"\" for x in images]\n",
    "[print(x, '->', len(x)) if len(x)!=2 else \"\" for x in labels]\n",
    "\n",
    "images = np.array(images, dtype=np.float32)\n",
    "labels = np.array(labels, dtype=np.float32)\n",
    "\n",
    "train_images, val_images, train_labels, val_labels = train_test_split(images, labels, test_size=0.2, random_state=42)\n",
    "\n",
    "print(\"Training images shape:\", train_images.shape)\n",
    "print(\"Training labels shape:\", train_labels.shape)\n",
    "print(\"Validation images shape:\", val_images.shape)\n",
    "print(\"Validation labels shape:\", val_labels.shape)\n",
    "\n"
   ]
  },
  {
   "cell_type": "markdown",
   "metadata": {},
   "source": [
    "# 3. Train"
   ]
  },
  {
   "cell_type": "code",
   "execution_count": 8,
   "metadata": {},
   "outputs": [
    {
     "name": "stderr",
     "output_type": "stream",
     "text": [
      "2024-05-15 09:35:40.818941: W tensorflow/tsl/framework/cpu_allocator_impl.cc:83] Allocation of 190720000 exceeds 10% of free system memory.\n"
     ]
    },
    {
     "name": "stdout",
     "output_type": "stream",
     "text": [
      "Epoch 1/10\n"
     ]
    },
    {
     "name": "stderr",
     "output_type": "stream",
     "text": [
      "2024-05-15 09:35:44.115760: W tensorflow/tsl/framework/cpu_allocator_impl.cc:83] Allocation of 160579584 exceeds 10% of free system memory.\n",
      "2024-05-15 09:35:45.850804: W tensorflow/tsl/framework/cpu_allocator_impl.cc:83] Allocation of 160579584 exceeds 10% of free system memory.\n"
     ]
    },
    {
     "name": "stdout",
     "output_type": "stream",
     "text": [
      " 1/38 [..............................] - ETA: 3:19 - loss: 17.3316 - mae: 2.9767"
     ]
    },
    {
     "name": "stderr",
     "output_type": "stream",
     "text": [
      "2024-05-15 09:35:46.849692: W tensorflow/tsl/framework/cpu_allocator_impl.cc:83] Allocation of 160579584 exceeds 10% of free system memory.\n",
      "2024-05-15 09:35:48.309789: W tensorflow/tsl/framework/cpu_allocator_impl.cc:83] Allocation of 160579584 exceeds 10% of free system memory.\n"
     ]
    },
    {
     "name": "stdout",
     "output_type": "stream",
     "text": [
      "38/38 [==============================] - ETA: 0s - loss: 4.8423 - mae: 1.0914\n",
      "Epoch 1: val_loss improved from inf to 0.23703, saving model to best_model.h5\n"
     ]
    },
    {
     "name": "stderr",
     "output_type": "stream",
     "text": [
      "/home/miquel/.local/lib/python3.8/site-packages/keras/src/engine/training.py:3000: UserWarning: You are saving your model as an HDF5 file via `model.save()`. This file format is considered legacy. We recommend using instead the native Keras format, e.g. `model.save('my_model.keras')`.\n",
      "  saving_api.save_model(\n"
     ]
    },
    {
     "name": "stdout",
     "output_type": "stream",
     "text": [
      "38/38 [==============================] - 98s 3s/step - loss: 4.8423 - mae: 1.0914 - val_loss: 0.2370 - val_mae: 0.2532\n",
      "Epoch 2/10\n",
      "38/38 [==============================] - ETA: 0s - loss: 0.1548 - mae: 0.1974\n",
      "Epoch 2: val_loss improved from 0.23703 to 0.08623, saving model to best_model.h5\n",
      "38/38 [==============================] - 93s 2s/step - loss: 0.1548 - mae: 0.1974 - val_loss: 0.0862 - val_mae: 0.1316\n",
      "Epoch 3/10\n",
      "38/38 [==============================] - ETA: 0s - loss: 0.0857 - mae: 0.1410\n",
      "Epoch 3: val_loss did not improve from 0.08623\n",
      "38/38 [==============================] - 95s 2s/step - loss: 0.0857 - mae: 0.1410 - val_loss: 0.0984 - val_mae: 0.2036\n",
      "Epoch 4/10\n",
      "38/38 [==============================] - ETA: 0s - loss: 0.0762 - mae: 0.1481\n",
      "Epoch 4: val_loss improved from 0.08623 to 0.07072, saving model to best_model.h5\n",
      "38/38 [==============================] - 93s 2s/step - loss: 0.0762 - mae: 0.1481 - val_loss: 0.0707 - val_mae: 0.1217\n",
      "Epoch 5/10\n",
      "38/38 [==============================] - ETA: 0s - loss: 0.0596 - mae: 0.1328\n",
      "Epoch 5: val_loss did not improve from 0.07072\n",
      "38/38 [==============================] - 88s 2s/step - loss: 0.0596 - mae: 0.1328 - val_loss: 0.0766 - val_mae: 0.1338\n",
      "Epoch 6/10\n",
      "38/38 [==============================] - ETA: 0s - loss: 0.0614 - mae: 0.1335\n",
      "Epoch 6: val_loss improved from 0.07072 to 0.05229, saving model to best_model.h5\n",
      "38/38 [==============================] - 85s 2s/step - loss: 0.0614 - mae: 0.1335 - val_loss: 0.0523 - val_mae: 0.0878\n",
      "Epoch 7/10\n",
      "38/38 [==============================] - ETA: 0s - loss: 0.0445 - mae: 0.1048\n",
      "Epoch 7: val_loss did not improve from 0.05229\n",
      "38/38 [==============================] - 82s 2s/step - loss: 0.0445 - mae: 0.1048 - val_loss: 0.0728 - val_mae: 0.1630\n",
      "Epoch 8/10\n",
      "38/38 [==============================] - ETA: 0s - loss: 0.0464 - mae: 0.1022\n",
      "Epoch 8: val_loss did not improve from 0.05229\n",
      "38/38 [==============================] - 95s 3s/step - loss: 0.0464 - mae: 0.1022 - val_loss: 0.0588 - val_mae: 0.1396\n",
      "Epoch 9/10\n",
      "38/38 [==============================] - ETA: 0s - loss: 0.0723 - mae: 0.1609\n",
      "Epoch 9: val_loss did not improve from 0.05229\n",
      "38/38 [==============================] - 84s 2s/step - loss: 0.0723 - mae: 0.1609 - val_loss: 0.0689 - val_mae: 0.1456\n",
      "Epoch 10/10\n",
      "38/38 [==============================] - ETA: 0s - loss: 0.0411 - mae: 0.1054\n",
      "Epoch 10: val_loss improved from 0.05229 to 0.03934, saving model to best_model.h5\n",
      "38/38 [==============================] - 95s 3s/step - loss: 0.0411 - mae: 0.1054 - val_loss: 0.0393 - val_mae: 0.0652\n",
      "10/10 [==============================] - 6s 589ms/step - loss: 0.0393 - mae: 0.0652\n",
      "Validation Loss: 0.03934445232152939\n",
      "Validation Mean Absolute Error: 0.06517044454813004\n",
      "10/10 [==============================] - 5s 496ms/step\n"
     ]
    }
   ],
   "source": [
    "\n",
    "model = create_cnn_model(input_shape)\n",
    "\n",
    "# Compile the model\n",
    "model.compile(optimizer='adam', loss='mse', metrics=['mae'])\n",
    "\n",
    "# Define callbacks (optional but useful for saving the best model)\n",
    "checkpoint_path = \"best_model.h5\"\n",
    "checkpoint = ModelCheckpoint(checkpoint_path, monitor='val_loss', verbose=1, save_best_only=True, mode='min')\n",
    "\n",
    "# Train the model\n",
    "batch_size = 32\n",
    "epochs = 10\n",
    "\n",
    "history = model.fit(train_images, train_labels,\n",
    "                    validation_data=(val_images, val_labels),\n",
    "                    batch_size=batch_size,\n",
    "                    epochs=epochs,\n",
    "                    callbacks=[checkpoint])\n",
    "\n",
    "# Evaluate the model on the validation set\n",
    "loss, mae = model.evaluate(val_images, val_labels)\n",
    "print(\"Validation Loss:\", loss)\n",
    "print(\"Validation Mean Absolute Error:\", mae)\n",
    "\n",
    "# Load the best model\n",
    "best_model = tf.keras.models.load_model(checkpoint_path)\n",
    "\n",
    "# Make predictions on the validation set using the best model\n",
    "predictions = best_model.predict(val_images)\n",
    "\n",
    "# Optionally, you can save the best model for later use\n",
    "best_model.save(\"data/models/best_model_trained.h5\")"
   ]
  },
  {
   "cell_type": "code",
   "execution_count": null,
   "metadata": {},
   "outputs": [],
   "source": []
  }
 ],
 "metadata": {
  "kernelspec": {
   "display_name": "Python 3",
   "language": "python",
   "name": "python3"
  },
  "language_info": {
   "codemirror_mode": {
    "name": "ipython",
    "version": 3
   },
   "file_extension": ".py",
   "mimetype": "text/x-python",
   "name": "python",
   "nbconvert_exporter": "python",
   "pygments_lexer": "ipython3",
   "version": "3.8.10"
  }
 },
 "nbformat": 4,
 "nbformat_minor": 2
}
